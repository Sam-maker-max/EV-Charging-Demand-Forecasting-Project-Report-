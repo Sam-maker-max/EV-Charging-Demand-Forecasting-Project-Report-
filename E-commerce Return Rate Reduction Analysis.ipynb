{
 "cells": [
  {
   "cell_type": "code",
   "execution_count": 12,
   "id": "d1f5f76f-74ba-47e8-9860-e5b4244a4b24",
   "metadata": {},
   "outputs": [],
   "source": [
    "import pandas as pd\n",
    "\n",
    "orders = pd.read_csv('orders.csv')\n",
    "returns = pd.read_csv('returns.csv')\n",
    "\n",
    "\n"
   ]
  },
  {
   "cell_type": "code",
   "execution_count": 16,
   "id": "5e8fd5ed-92a9-4ac4-9861-4109005495d9",
   "metadata": {},
   "outputs": [
    {
     "name": "stdout",
     "output_type": "stream",
     "text": [
      "  Order ID  Order Date CustomerName           State     City\n",
      "0  B-26055  10-03-2018    Harivansh   Uttar Pradesh  Mathura\n",
      "1  B-25993  03-02-2018       Madhav           Delhi    Delhi\n",
      "2  B-25973  24-01-2018  Madan Mohan   Uttar Pradesh  Mathura\n",
      "3  B-25923  27-12-2018        Gopal     Maharashtra   Mumbai\n",
      "4  B-25757  21-08-2018     Vishakha  Madhya Pradesh   Indore\n",
      "   Unnamed: 0  Order ID    Status\n",
      "0           0        65  Returned\n",
      "1           1        69  Returned\n",
      "2           2       134  Returned\n",
      "3           3       135  Returned\n",
      "4           4       230  Returned\n"
     ]
    }
   ],
   "source": [
    "print(orders.head())\n",
    "print(returns.head())\n"
   ]
  },
  {
   "cell_type": "code",
   "execution_count": 22,
   "id": "d0bcda39-0149-4404-8b24-d31f647fe69e",
   "metadata": {},
   "outputs": [
    {
     "name": "stdout",
     "output_type": "stream",
     "text": [
      "Index(['Order ID', 'Order Date', 'CustomerName', 'State', 'City'], dtype='object')\n",
      "Index(['Unnamed: 0', 'Order ID', 'Status'], dtype='object')\n"
     ]
    }
   ],
   "source": [
    "print(orders.columns)\n",
    "print(returns.columns)\n"
   ]
  },
  {
   "cell_type": "code",
   "execution_count": 24,
   "id": "8acb6560-36ff-4a9a-ae7f-c3db261abea3",
   "metadata": {},
   "outputs": [],
   "source": [
    "orders.rename(columns={'Order ID': 'order_id'}, inplace=True)\n",
    "returns.rename(columns={'Order ID': 'order_id'}, inplace=True)\n"
   ]
  },
  {
   "cell_type": "code",
   "execution_count": 28,
   "id": "5a39d37c-77f4-4cf6-a368-a3a26f3953ef",
   "metadata": {},
   "outputs": [],
   "source": [
    "# Convert both to string\n",
    "orders['order_id'] = orders['order_id'].astype(str)\n",
    "returns['order_id'] = returns['order_id'].astype(str)\n",
    "\n",
    "# Now merge\n",
    "data = pd.merge(orders, returns, on='order_id', how='left')\n"
   ]
  },
  {
   "cell_type": "code",
   "execution_count": 30,
   "id": "b3fdfa66-4463-478b-980f-a1ca6b1f4af8",
   "metadata": {},
   "outputs": [
    {
     "name": "stdout",
     "output_type": "stream",
     "text": [
      "order_id        object\n",
      "Order Date      object\n",
      "CustomerName    object\n",
      "State           object\n",
      "City            object\n",
      "dtype: object\n",
      "Unnamed: 0     int64\n",
      "order_id      object\n",
      "Status        object\n",
      "dtype: object\n"
     ]
    }
   ],
   "source": [
    "print(orders.dtypes)\n",
    "print(returns.dtypes)\n"
   ]
  },
  {
   "cell_type": "code",
   "execution_count": 56,
   "id": "24759725-185c-481d-b57f-4b58d59ab4d4",
   "metadata": {},
   "outputs": [],
   "source": [
    "# Create 'returned' column: 1 if return_status exists, else 0\n",
    "data['returned'] = data['Status'].notna().astype(int)\n"
   ]
  },
  {
   "cell_type": "code",
   "execution_count": 82,
   "id": "fc5d2fe7-e414-4628-aef7-0b5623d0bbf4",
   "metadata": {
    "scrolled": true
   },
   "outputs": [
    {
     "name": "stdout",
     "output_type": "stream",
     "text": [
      "CustomerName\n",
      "Aakanksha    0.0\n",
      "Aarushi      0.0\n",
      "Aastha       0.0\n",
      "Aayush       0.0\n",
      "Aayushi      0.0\n",
      "            ... \n",
      "Wale         0.0\n",
      "Yaanvi       0.0\n",
      "Yash         0.0\n",
      "Yogesh       0.0\n",
      "Yohann       0.0\n",
      "Name: returned, Length: 336, dtype: float64\n"
     ]
    }
   ],
   "source": [
    "return_by_City = data.groupby('CustomerName')['returned'].mean().sort_values(ascending=False)\n",
    "print(return_by_City)\n"
   ]
  },
  {
   "cell_type": "code",
   "execution_count": 84,
   "id": "d894cec3-271a-4a81-98e9-a31fe760319a",
   "metadata": {},
   "outputs": [
    {
     "name": "stdout",
     "output_type": "stream",
     "text": [
      "returned\n",
      "0    500\n",
      "Name: count, dtype: int64\n"
     ]
    }
   ],
   "source": [
    "print(data['returned'].value_counts())\n"
   ]
  },
  {
   "cell_type": "code",
   "execution_count": 86,
   "id": "23d0fdd4-6155-4ac6-aad1-0d13e701fc0d",
   "metadata": {},
   "outputs": [
    {
     "name": "stdout",
     "output_type": "stream",
     "text": [
      "[nan]\n"
     ]
    }
   ],
   "source": [
    "print(data['Status'].unique())\n"
   ]
  },
  {
   "cell_type": "code",
   "execution_count": 88,
   "id": "723117f3-46a4-4116-be51-5e6142bdb6ab",
   "metadata": {},
   "outputs": [
    {
     "data": {
      "text/plain": [
       "returned\n",
       "0    500\n",
       "Name: count, dtype: int64"
      ]
     },
     "execution_count": 88,
     "metadata": {},
     "output_type": "execute_result"
    }
   ],
   "source": [
    "data['returned'].value_counts()\n"
   ]
  },
  {
   "cell_type": "code",
   "execution_count": 94,
   "id": "ce7ca4fd-4950-49bb-8a9e-16a93bd2877b",
   "metadata": {},
   "outputs": [
    {
     "name": "stdout",
     "output_type": "stream",
     "text": [
      "Order Date\n",
      "01-01-2018    0.0\n",
      "01-02-2018    0.0\n",
      "01-03-2018    0.0\n",
      "01-04-2018    0.0\n",
      "01-05-2018    0.0\n",
      "             ... \n",
      "31-05-2018    0.0\n",
      "31-07-2018    0.0\n",
      "31-08-2018    0.0\n",
      "31-10-2018    0.0\n",
      "31-12-2018    0.0\n",
      "Name: returned, Length: 307, dtype: float64\n"
     ]
    }
   ],
   "source": [
    "return_by_State = data.groupby('Order Date')['returned'].mean().sort_values(ascending=False)\n",
    "print(return_by_State)\n"
   ]
  },
  {
   "cell_type": "code",
   "execution_count": 102,
   "id": "0e85f1ff-0f85-45ba-bfcd-4c0ed6df2a12",
   "metadata": {},
   "outputs": [],
   "source": [
    "# Create 'returned' column: 1 if return_status exists, else 0\n",
    "data['returned'] = data['Status'].notna().astype(int)"
   ]
  },
  {
   "cell_type": "code",
   "execution_count": 106,
   "id": "d3739151-4437-4d58-9cd0-d6694aa86249",
   "metadata": {},
   "outputs": [
    {
     "name": "stdout",
     "output_type": "stream",
     "text": [
      "City\n",
      "Ahmedabad             0.0\n",
      "Amritsar              0.0\n",
      "Bangalore             0.0\n",
      "Bhopal                0.0\n",
      "Chandigarh            0.0\n",
      "Chennai               0.0\n",
      "Delhi                 0.0\n",
      "Gangtok               0.0\n",
      "Goa                   0.0\n",
      "Hyderabad             0.0\n",
      "Indore                0.0\n",
      "Jaipur                0.0\n",
      "Kashmir               0.0\n",
      "Kohima                0.0\n",
      "Kolkata               0.0\n",
      "Lucknow               0.0\n",
      "Mathura               0.0\n",
      "Mumbai                0.0\n",
      "Patna                 0.0\n",
      "Prayagraj             0.0\n",
      "Pune                  0.0\n",
      "Simla                 0.0\n",
      "Surat                 0.0\n",
      "Thiruvananthapuram    0.0\n",
      "Udaipur               0.0\n",
      "Name: returned, dtype: float64\n"
     ]
    }
   ],
   "source": [
    "return_by_City = data.groupby('City')['returned'].mean().sort_values(ascending=False)\n",
    "print(return_by_City)\n"
   ]
  },
  {
   "cell_type": "code",
   "execution_count": 110,
   "id": "28c4f00c-d390-4d70-a4f6-f0baa50bd193",
   "metadata": {},
   "outputs": [
    {
     "name": "stdout",
     "output_type": "stream",
     "text": [
      "Requirement already satisfied: seaborn in c:\\users\\sampriti ghosh\\anaconda3\\envs\\sampriti\\lib\\site-packages (0.13.2)\n",
      "Requirement already satisfied: numpy!=1.24.0,>=1.20 in c:\\users\\sampriti ghosh\\anaconda3\\envs\\sampriti\\lib\\site-packages (from seaborn) (2.3.0)\n",
      "Requirement already satisfied: pandas>=1.2 in c:\\users\\sampriti ghosh\\anaconda3\\envs\\sampriti\\lib\\site-packages (from seaborn) (2.3.0)\n",
      "Requirement already satisfied: matplotlib!=3.6.1,>=3.4 in c:\\users\\sampriti ghosh\\anaconda3\\envs\\sampriti\\lib\\site-packages (from seaborn) (3.10.3)\n",
      "Requirement already satisfied: contourpy>=1.0.1 in c:\\users\\sampriti ghosh\\anaconda3\\envs\\sampriti\\lib\\site-packages (from matplotlib!=3.6.1,>=3.4->seaborn) (1.3.2)\n",
      "Requirement already satisfied: cycler>=0.10 in c:\\users\\sampriti ghosh\\anaconda3\\envs\\sampriti\\lib\\site-packages (from matplotlib!=3.6.1,>=3.4->seaborn) (0.12.1)\n",
      "Requirement already satisfied: fonttools>=4.22.0 in c:\\users\\sampriti ghosh\\anaconda3\\envs\\sampriti\\lib\\site-packages (from matplotlib!=3.6.1,>=3.4->seaborn) (4.58.4)\n",
      "Requirement already satisfied: kiwisolver>=1.3.1 in c:\\users\\sampriti ghosh\\anaconda3\\envs\\sampriti\\lib\\site-packages (from matplotlib!=3.6.1,>=3.4->seaborn) (1.4.8)\n",
      "Requirement already satisfied: packaging>=20.0 in c:\\users\\sampriti ghosh\\anaconda3\\envs\\sampriti\\lib\\site-packages (from matplotlib!=3.6.1,>=3.4->seaborn) (24.2)\n",
      "Requirement already satisfied: pillow>=8 in c:\\users\\sampriti ghosh\\anaconda3\\envs\\sampriti\\lib\\site-packages (from matplotlib!=3.6.1,>=3.4->seaborn) (11.2.1)\n",
      "Requirement already satisfied: pyparsing>=2.3.1 in c:\\users\\sampriti ghosh\\anaconda3\\envs\\sampriti\\lib\\site-packages (from matplotlib!=3.6.1,>=3.4->seaborn) (3.2.3)\n",
      "Requirement already satisfied: python-dateutil>=2.7 in c:\\users\\sampriti ghosh\\anaconda3\\envs\\sampriti\\lib\\site-packages (from matplotlib!=3.6.1,>=3.4->seaborn) (2.9.0.post0)\n",
      "Requirement already satisfied: pytz>=2020.1 in c:\\users\\sampriti ghosh\\anaconda3\\envs\\sampriti\\lib\\site-packages (from pandas>=1.2->seaborn) (2025.2)\n",
      "Requirement already satisfied: tzdata>=2022.7 in c:\\users\\sampriti ghosh\\anaconda3\\envs\\sampriti\\lib\\site-packages (from pandas>=1.2->seaborn) (2025.2)\n",
      "Requirement already satisfied: six>=1.5 in c:\\users\\sampriti ghosh\\anaconda3\\envs\\sampriti\\lib\\site-packages (from python-dateutil>=2.7->matplotlib!=3.6.1,>=3.4->seaborn) (1.16.0)\n"
     ]
    }
   ],
   "source": [
    "!pip install seaborn\n"
   ]
  },
  {
   "cell_type": "code",
   "execution_count": 112,
   "id": "6ca17ce4-1fe0-42f1-a344-01e44e792754",
   "metadata": {},
   "outputs": [],
   "source": [
    "import seaborn as sns\n",
    "import matplotlib.pyplot as plt\n"
   ]
  },
  {
   "cell_type": "code",
   "execution_count": 114,
   "id": "a6cc07ad-6c9b-4e6b-96d3-41c8e9ac94e8",
   "metadata": {},
   "outputs": [
    {
     "data": {
      "image/png": "[encoded data removed]",
      "text/plain": [
       "<Figure size 640x480 with 1 Axes>"
      ]
     },
     "metadata": {},
     "output_type": "display_data"
    }
   ],
   "source": [
    "sns.barplot(x=return_by_category.values, y=return_by_category.index)\n",
    "plt.title(\"Return Rate by Product Category\")\n",
    "plt.xlabel(\"Return Rate\")\n",
    "plt.ylabel(\"Category\")\n",
    "plt.show()\n"
   ]
  },
  {
   "cell_type": "code",
   "execution_count": 118,
   "id": "c740d4c0-510a-43a5-be24-6c4e7d7c0ca8",
   "metadata": {},
   "outputs": [
    {
     "data": {
      "image/png": "[encoded data removed]",
      "text/plain": [
       "<Figure size 640x480 with 1 Axes>"
      ]
     },
     "metadata": {},
     "output_type": "display_data"
    }
   ],
   "source": [
    "import matplotlib.pyplot as plt\n",
    "\n",
    "return_by_City.plot(kind='line', marker='o')\n",
    "plt.title(\"Monthly Return Rate Trend\")\n",
    "plt.xlabel(\"Month\")\n",
    "plt.ylabel(\"Return Rate\")\n",
    "plt.xticks(rotation=45)\n",
    "plt.grid(True)\n",
    "plt.show()\n"
   ]
  },
  {
   "cell_type": "code",
   "execution_count": 120,
   "id": "2e36a636-ea6a-4948-a59c-6fc49a635fd1",
   "metadata": {},
   "outputs": [
    {
     "name": "stdout",
     "output_type": "stream",
     "text": [
      "State\n",
      "Andhra Pradesh       0.0\n",
      "Bihar                0.0\n",
      "Delhi                0.0\n",
      "Goa                  0.0\n",
      "Gujarat              0.0\n",
      "Haryana              0.0\n",
      "Himachal Pradesh     0.0\n",
      "Jammu and Kashmir    0.0\n",
      "Karnataka            0.0\n",
      "Kerala               0.0\n",
      "Madhya Pradesh       0.0\n",
      "Maharashtra          0.0\n",
      "Nagaland             0.0\n",
      "Punjab               0.0\n",
      "Rajasthan            0.0\n",
      "Sikkim               0.0\n",
      "Tamil Nadu           0.0\n",
      "Uttar Pradesh        0.0\n",
      "West Bengal          0.0\n",
      "Name: returned, dtype: float64\n"
     ]
    }
   ],
   "source": [
    "return_by_state = data.groupby('State')['returned'].mean().sort_values(ascending=False)\n",
    "print(return_by_state)\n",
    "\n"
   ]
  },
  {
   "cell_type": "code",
   "execution_count": 126,
   "id": "b2330a98-09e5-4639-b739-f66f428c63f2",
   "metadata": {},
   "outputs": [
    {
     "name": "stdout",
     "output_type": "stream",
     "text": [
      "Index(['order_id', 'Order Date', 'CustomerName', 'State', 'City', 'Unnamed: 0',\n",
      "       'Status', 'returned'],\n",
      "      dtype='object')\n"
     ]
    }
   ],
   "source": [
    "print(data.columns)\n"
   ]
  },
  {
   "cell_type": "code",
   "execution_count": 128,
   "id": "fca51db9-8efe-4a78-a546-acdf8bebc506",
   "metadata": {},
   "outputs": [
    {
     "data": {
      "text/plain": [
       "0        Harivansh\n",
       "1           Madhav\n",
       "2      Madan Mohan\n",
       "3            Gopal\n",
       "4         Vishakha\n",
       "          ...     \n",
       "495         Ashwin\n",
       "496         Bhavna\n",
       "497        Shivani\n",
       "498        Shubham\n",
       "499        Monisha\n",
       "Name: CustomerName, Length: 500, dtype: object"
      ]
     },
     "execution_count": 128,
     "metadata": {},
     "output_type": "execute_result"
    }
   ],
   "source": [
    "data['CustomerName']\n"
   ]
  },
  {
   "cell_type": "code",
   "execution_count": 130,
   "id": "69104718-3cf4-416a-9958-04f2b172d912",
   "metadata": {},
   "outputs": [
    {
     "data": {
      "text/plain": [
       "0        Harivansh\n",
       "1           Madhav\n",
       "2      Madan Mohan\n",
       "3            Gopal\n",
       "4         Vishakha\n",
       "          ...     \n",
       "495         Ashwin\n",
       "496         Bhavna\n",
       "497        Shivani\n",
       "498        Shubham\n",
       "499        Monisha\n",
       "Name: CustomerName, Length: 500, dtype: object"
      ]
     },
     "execution_count": 130,
     "metadata": {},
     "output_type": "execute_result"
    }
   ],
   "source": [
    "data['CustomerName']\n"
   ]
  },
  {
   "cell_type": "code",
   "execution_count": 132,
   "id": "3a848fef-0911-4c05-8a4f-75d3dad1f265",
   "metadata": {},
   "outputs": [
    {
     "name": "stdout",
     "output_type": "stream",
     "text": [
      "0      Harivansh\n",
      "1         Madhav\n",
      "2    Madan Mohan\n",
      "3          Gopal\n",
      "4       Vishakha\n",
      "Name: CustomerName, dtype: object\n"
     ]
    }
   ],
   "source": [
    "print(data['CustomerName'].head())\n"
   ]
  },
  {
   "cell_type": "code",
   "execution_count": 134,
   "id": "da5aae76-9692-401e-b2c8-eaef0be862d5",
   "metadata": {},
   "outputs": [],
   "source": [
    "data.rename(columns={'Customer Name': 'CustomerName'}, inplace=True)\n"
   ]
  },
  {
   "cell_type": "code",
   "execution_count": 136,
   "id": "438a10b1-659d-479d-a243-c59062542125",
   "metadata": {},
   "outputs": [],
   "source": [
    "data['CustomerName'] = ['Alice', 'Bob', 'Charlie', 'David', 'Eva'] * (len(data) // 5)\n"
   ]
  },
  {
   "cell_type": "code",
   "execution_count": 142,
   "id": "610921cd-1c4c-4baa-acec-130f4a056d2b",
   "metadata": {},
   "outputs": [
    {
     "data": {
      "text/plain": [
       "<matplotlib.legend.Legend at 0x21178e9e1b0>"
      ]
     },
     "execution_count": 142,
     "metadata": {},
     "output_type": "execute_result"
    },
    {
     "data": {
      "image/png": "[encoded data removed]",
      "text/plain": [
       "<Figure size 640x480 with 1 Axes>"
      ]
     },
     "metadata": {},
     "output_type": "display_data"
    }
   ],
   "source": [
    "plt.axhline(y=return_by_City.mean(), color='red', linestyle='--', label='Average Return Rate')\n",
    "plt.legend()\n"
   ]
  },
  {
   "cell_type": "code",
   "execution_count": 158,
   "id": "04e7af86-84f2-4626-a091-a5a587f00ce6",
   "metadata": {},
   "outputs": [],
   "source": [
    "data['Order Date'] = pd.to_datetime(data['Order Date'], errors='coerce')\n"
   ]
  },
  {
   "cell_type": "code",
   "execution_count": 160,
   "id": "6bdf72d9-24d0-4dea-a515-a61ee60bed41",
   "metadata": {},
   "outputs": [
    {
     "name": "stdout",
     "output_type": "stream",
     "text": [
      "    Order Date\n",
      "2          NaT\n",
      "3          NaT\n",
      "4          NaT\n",
      "5          NaT\n",
      "6          NaT\n",
      "..         ...\n",
      "493        NaT\n",
      "494        NaT\n",
      "496        NaT\n",
      "498        NaT\n",
      "499        NaT\n",
      "\n",
      "[307 rows x 1 columns]\n"
     ]
    }
   ],
   "source": [
    "invalid_dates = data[data['Order Date'].isna()]\n",
    "print(invalid_dates[['Order Date']])\n"
   ]
  },
  {
   "cell_type": "code",
   "execution_count": 162,
   "id": "db89ef3a-bc2b-423f-a694-6a5a6b63819c",
   "metadata": {},
   "outputs": [],
   "source": [
    "data = data.dropna(subset=['Order Date'])\n"
   ]
  },
  {
   "cell_type": "code",
   "execution_count": 164,
   "id": "484bfef8-c9de-453c-8f11-88023b45c418",
   "metadata": {},
   "outputs": [
    {
     "name": "stderr",
     "output_type": "stream",
     "text": [
      "C:\\Users\\Sampriti Ghosh\\AppData\\Local\\Temp\\ipykernel_8464\\3592299843.py:1: SettingWithCopyWarning: \n",
      "A value is trying to be set on a copy of a slice from a DataFrame.\n",
      "Try using .loc[row_indexer,col_indexer] = value instead\n",
      "\n",
      "See the caveats in the documentation: https://pandas.pydata.org/pandas-docs/stable/user_guide/indexing.html#returning-a-view-versus-a-copy\n",
      "  data['Order Date'] = pd.to_datetime(data['Order Date'])\n"
     ]
    }
   ],
   "source": [
    "data['Order Date'] = pd.to_datetime(data['Order Date'])\n"
   ]
  },
  {
   "cell_type": "code",
   "execution_count": 166,
   "id": "947df87d-c054-4298-bd1d-7c1fa623873c",
   "metadata": {},
   "outputs": [
    {
     "name": "stdout",
     "output_type": "stream",
     "text": [
      "Index(['order_id', 'Order Date', 'CustomerName', 'State', 'City', 'Unnamed: 0',\n",
      "       'Status', 'returned'],\n",
      "      dtype='object')\n"
     ]
    }
   ],
   "source": [
    "print(data.columns)\n"
   ]
  },
  {
   "cell_type": "code",
   "execution_count": 172,
   "id": "5de1f91f-7a86-49d6-ae5b-6ccf9a9b1116",
   "metadata": {},
   "outputs": [],
   "source": [
    "orders_by_month = data.groupby(data['Order Date'].dt.to_period('M'))['order_id'].count()\n"
   ]
  },
  {
   "cell_type": "code",
   "execution_count": 174,
   "id": "3adc652d-bec3-4d45-baae-96cdc95e17fc",
   "metadata": {},
   "outputs": [],
   "source": [
    "data = data.dropna(subset=['Order Date'])\n"
   ]
  },
  {
   "cell_type": "code",
   "execution_count": 178,
   "id": "7cd0bbcf-1e8d-4ae7-8f2a-b8799fc19c5b",
   "metadata": {},
   "outputs": [
    {
     "data": {
      "image/png": "[encoded data removed]",
      "text/plain": [
       "<Figure size 640x480 with 1 Axes>"
      ]
     },
     "metadata": {},
     "output_type": "display_data"
    }
   ],
   "source": [
    "data['Order Date'] = pd.to_datetime(data['Order Date'])\n",
    "orders_by_month = data.groupby(data['Order Date'].dt.to_period('M'))['order_id'].count()\n",
    "orders_by_month.plot(kind='bar')\n",
    "plt.title(\"Monthly Order Volume\")\n",
    "plt.xlabel(\"Month\")\n",
    "plt.ylabel(\"Order Count\")\n",
    "plt.xticks(rotation=45)\n",
    "plt.show()\n"
   ]
  },
  {
   "cell_type": "code",
   "execution_count": 184,
   "id": "3a2bc008-ef7e-45b6-af99-1202f7443000",
   "metadata": {},
   "outputs": [
    {
     "data": {
      "image/png": "[encoded data removed]",
      "text/plain": [
       "<Figure size 640x480 with 1 Axes>"
      ]
     },
     "metadata": {},
     "output_type": "display_data"
    }
   ],
   "source": [
    "return_by_month = data.groupby(data['Order Date'].dt.to_period('M'))['returned'].mean()\n",
    "return_by_month.plot(kind='line', marker='o', color='red')\n",
    "plt.title(\"Monthly Return Rate\")\n",
    "plt.xlabel(\"Month\")\n",
    "plt.ylabel(\"Return Rate\")\n",
    "plt.xticks(rotation=45)\n",
    "plt.show()\n"
   ]
  },
  {
   "cell_type": "code",
   "execution_count": 186,
   "id": "e7c4782f-6004-4b54-af12-1cb4bcba2105",
   "metadata": {},
   "outputs": [
    {
     "name": "stdout",
     "output_type": "stream",
     "text": [
      "Order Date\n",
      "2018-01    0.0\n",
      "2018-02    0.0\n",
      "2018-03    0.0\n",
      "2018-04    0.0\n",
      "2018-05    0.0\n",
      "Freq: M, Name: returned, dtype: float64\n"
     ]
    }
   ],
   "source": [
    "print(return_by_month.sort_values(ascending=False).head())\n"
   ]
  },
  {
   "cell_type": "code",
   "execution_count": 188,
   "id": "19476469-e5c0-4e65-9135-0919dfccb26e",
   "metadata": {},
   "outputs": [],
   "source": [
    "summary = pd.DataFrame({\n",
    "    'Order Count': orders_by_month,\n",
    "    'Return Rate': return_by_month\n",
    "})\n",
    "summary.to_csv('monthly_summary.csv')\n"
   ]
  },
  {
   "cell_type": "code",
   "execution_count": 192,
   "id": "6b0595a8-b732-4d0d-b4ed-536a1476bffa",
   "metadata": {},
   "outputs": [
    {
     "name": "stdout",
     "output_type": "stream",
     "text": [
      "Collecting scikit-learn\n",
      "  Downloading scikit_learn-1.7.0-cp312-cp312-win_amd64.whl.metadata (14 kB)\n",
      "Requirement already satisfied: numpy>=1.22.0 in c:\\users\\sampriti ghosh\\anaconda3\\envs\\sampriti\\lib\\site-packages (from scikit-learn) (2.3.0)\n",
      "Collecting scipy>=1.8.0 (from scikit-learn)\n",
      "  Downloading scipy-1.15.3-cp312-cp312-win_amd64.whl.metadata (60 kB)\n",
      "Collecting joblib>=1.2.0 (from scikit-learn)\n",
      "  Downloading joblib-1.5.1-py3-none-any.whl.metadata (5.6 kB)\n",
      "Collecting threadpoolctl>=3.1.0 (from scikit-learn)\n",
      "  Downloading threadpoolctl-3.6.0-py3-none-any.whl.metadata (13 kB)\n",
      "Downloading scikit_learn-1.7.0-cp312-cp312-win_amd64.whl (10.7 MB)\n",
      "   ---------------------------------------- 0.0/10.7 MB ? eta -:--:--\n",
      "   ---------------------------------------- 0.0/10.7 MB ? eta -:--:--\n",
      "   - -------------------------------------- 0.5/10.7 MB 1.5 MB/s eta 0:00:07\n",
      "   -- ------------------------------------- 0.8/10.7 MB 1.5 MB/s eta 0:00:07\n",
      "   --- ------------------------------------ 1.0/10.7 MB 1.4 MB/s eta 0:00:07\n",
      "   ---- ----------------------------------- 1.3/10.7 MB 1.5 MB/s eta 0:00:07\n",
      "   ----- ---------------------------------- 1.6/10.7 MB 1.5 MB/s eta 0:00:06\n",
      "   ------ --------------------------------- 1.8/10.7 MB 1.5 MB/s eta 0:00:06\n",
      "   ------- -------------------------------- 2.1/10.7 MB 1.4 MB/s eta 0:00:07\n",
      "   -------- ------------------------------- 2.4/10.7 MB 1.3 MB/s eta 0:00:07\n",
      "   -------- ------------------------------- 2.4/10.7 MB 1.3 MB/s eta 0:00:07\n",
      "   --------- ------------------------------ 2.6/10.7 MB 1.2 MB/s eta 0:00:07\n",
      "   ---------- ----------------------------- 2.9/10.7 MB 1.2 MB/s eta 0:00:07\n",
      "   ----------- ---------------------------- 3.1/10.7 MB 1.2 MB/s eta 0:00:07\n",
      "   ------------ --------------------------- 3.4/10.7 MB 1.2 MB/s eta 0:00:07\n",
      "   ------------- -------------------------- 3.7/10.7 MB 1.2 MB/s eta 0:00:06\n",
      "   -------------- ------------------------- 3.9/10.7 MB 1.2 MB/s eta 0:00:06\n",
      "   --------------- ------------------------ 4.2/10.7 MB 1.2 MB/s eta 0:00:06\n",
      "   ---------------- ----------------------- 4.5/10.7 MB 1.2 MB/s eta 0:00:06\n",
      "   ----------------- ---------------------- 4.7/10.7 MB 1.2 MB/s eta 0:00:06\n",
      "   ----------------- ---------------------- 4.7/10.7 MB 1.2 MB/s eta 0:00:06\n",
      "   ------------------ --------------------- 5.0/10.7 MB 1.2 MB/s eta 0:00:05\n",
      "   ------------------- -------------------- 5.2/10.7 MB 1.2 MB/s eta 0:00:05\n",
      "   -------------------- ------------------- 5.5/10.7 MB 1.2 MB/s eta 0:00:05\n",
      "   --------------------- ------------------ 5.8/10.7 MB 1.2 MB/s eta 0:00:05\n",
      "   ---------------------- ----------------- 6.0/10.7 MB 1.2 MB/s eta 0:00:05\n",
      "   ----------------------- ---------------- 6.3/10.7 MB 1.1 MB/s eta 0:00:04\n",
      "   ------------------------ --------------- 6.6/10.7 MB 1.2 MB/s eta 0:00:04\n",
      "   ------------------------- -------------- 6.8/10.7 MB 1.2 MB/s eta 0:00:04\n",
      "   -------------------------- ------------- 7.1/10.7 MB 1.2 MB/s eta 0:00:04\n",
      "   ---------------------------- ----------- 7.6/10.7 MB 1.2 MB/s eta 0:00:03\n",
      "   ------------------------------ --------- 8.1/10.7 MB 1.2 MB/s eta 0:00:03\n",
      "   ------------------------------- -------- 8.4/10.7 MB 1.2 MB/s eta 0:00:02\n",
      "   --------------------------------- ------ 8.9/10.7 MB 1.3 MB/s eta 0:00:02\n",
      "   ---------------------------------- ----- 9.2/10.7 MB 1.3 MB/s eta 0:00:02\n",
      "   ----------------------------------- ---- 9.4/10.7 MB 1.3 MB/s eta 0:00:01\n",
      "   ------------------------------------ --- 9.7/10.7 MB 1.3 MB/s eta 0:00:01\n",
      "   ------------------------------------- -- 10.0/10.7 MB 1.3 MB/s eta 0:00:01\n",
      "   ------------------------------------- -- 10.0/10.7 MB 1.3 MB/s eta 0:00:01\n",
      "   ---------------------------------------- 10.7/10.7 MB 1.3 MB/s eta 0:00:00\n",
      "Downloading joblib-1.5.1-py3-none-any.whl (307 kB)\n",
      "Downloading scipy-1.15.3-cp312-cp312-win_amd64.whl (41.0 MB)\n",
      "   ---------------------------------------- 0.0/41.0 MB ? eta -:--:--\n",
      "   ---------------------------------------- 0.3/41.0 MB ? eta -:--:--\n",
      "    --------------------------------------- 0.5/41.0 MB 1.3 MB/s eta 0:00:32\n",
      "    --------------------------------------- 0.5/41.0 MB 1.3 MB/s eta 0:00:32\n",
      "   - -------------------------------------- 1.0/41.0 MB 1.1 MB/s eta 0:00:37\n",
      "   - -------------------------------------- 1.3/41.0 MB 1.2 MB/s eta 0:00:33\n",
      "   -- ------------------------------------- 2.1/41.0 MB 1.5 MB/s eta 0:00:26\n",
      "   -- ------------------------------------- 2.4/41.0 MB 1.6 MB/s eta 0:00:25\n",
      "   -- ------------------------------------- 2.9/41.0 MB 1.6 MB/s eta 0:00:24\n",
      "   -- ------------------------------------- 2.9/41.0 MB 1.6 MB/s eta 0:00:24\n",
      "   --- ------------------------------------ 3.1/41.0 MB 1.5 MB/s eta 0:00:26\n",
      "   --- ------------------------------------ 3.1/41.0 MB 1.5 MB/s eta 0:00:26\n",
      "   --- ------------------------------------ 3.1/41.0 MB 1.5 MB/s eta 0:00:26\n",
      "   --- ------------------------------------ 3.1/41.0 MB 1.5 MB/s eta 0:00:26\n",
      "   --- ------------------------------------ 3.1/41.0 MB 1.5 MB/s eta 0:00:26\n",
      "   --- ------------------------------------ 3.1/41.0 MB 1.5 MB/s eta 0:00:26\n",
      "   --- ------------------------------------ 3.1/41.0 MB 1.5 MB/s eta 0:00:26\n",
      "   --- ------------------------------------ 3.7/41.0 MB 978.1 kB/s eta 0:00:39\n",
      "   --- ------------------------------------ 3.7/41.0 MB 978.1 kB/s eta 0:00:39\n",
      "   --- ------------------------------------ 3.9/41.0 MB 955.0 kB/s eta 0:00:39\n",
      "   --- ------------------------------------ 3.9/41.0 MB 955.0 kB/s eta 0:00:39\n",
      "   ---- ----------------------------------- 4.5/41.0 MB 976.1 kB/s eta 0:00:38\n",
      "   ---- ----------------------------------- 4.7/41.0 MB 987.0 kB/s eta 0:00:37\n",
      "   ---- ----------------------------------- 4.7/41.0 MB 987.0 kB/s eta 0:00:37\n",
      "   ---- ----------------------------------- 4.7/41.0 MB 987.0 kB/s eta 0:00:37\n",
      "   ---- ----------------------------------- 4.7/41.0 MB 987.0 kB/s eta 0:00:37\n",
      "   ---- ----------------------------------- 4.7/41.0 MB 987.0 kB/s eta 0:00:37\n",
      "   ---- ----------------------------------- 5.0/41.0 MB 862.9 kB/s eta 0:00:42\n",
      "   ---- ----------------------------------- 5.0/41.0 MB 862.9 kB/s eta 0:00:42\n",
      "   ---- ----------------------------------- 5.0/41.0 MB 862.9 kB/s eta 0:00:42\n",
      "   ---- ----------------------------------- 5.0/41.0 MB 862.9 kB/s eta 0:00:42\n",
      "   ---- ----------------------------------- 5.0/41.0 MB 862.9 kB/s eta 0:00:42\n",
      "   ---- ----------------------------------- 5.0/41.0 MB 862.9 kB/s eta 0:00:42\n",
      "   ----- ---------------------------------- 5.2/41.0 MB 741.4 kB/s eta 0:00:49\n",
      "   ----- ---------------------------------- 5.2/41.0 MB 741.4 kB/s eta 0:00:49\n",
      "   ----- ---------------------------------- 5.5/41.0 MB 717.0 kB/s eta 0:00:50\n",
      "   ----- ---------------------------------- 5.5/41.0 MB 717.0 kB/s eta 0:00:50\n",
      "   ----- ---------------------------------- 5.8/41.0 MB 726.4 kB/s eta 0:00:49\n",
      "   ----- ---------------------------------- 6.0/41.0 MB 732.3 kB/s eta 0:00:48\n",
      "   ------ --------------------------------- 6.3/41.0 MB 745.0 kB/s eta 0:00:47\n",
      "   ------ --------------------------------- 6.3/41.0 MB 745.0 kB/s eta 0:00:47\n",
      "   ------ --------------------------------- 6.6/41.0 MB 745.7 kB/s eta 0:00:47\n",
      "   ------ --------------------------------- 7.1/41.0 MB 770.8 kB/s eta 0:00:44\n",
      "   ------ --------------------------------- 7.1/41.0 MB 770.8 kB/s eta 0:00:44\n",
      "   ------- -------------------------------- 7.3/41.0 MB 775.7 kB/s eta 0:00:44\n",
      "   ------- -------------------------------- 7.6/41.0 MB 773.9 kB/s eta 0:00:44\n",
      "   ------- -------------------------------- 7.6/41.0 MB 773.9 kB/s eta 0:00:44\n",
      "   ------- -------------------------------- 8.1/41.0 MB 795.2 kB/s eta 0:00:42\n",
      "   ------- -------------------------------- 8.1/41.0 MB 795.2 kB/s eta 0:00:42\n",
      "   -------- ------------------------------- 8.4/41.0 MB 789.2 kB/s eta 0:00:42\n",
      "   -------- ------------------------------- 8.7/41.0 MB 797.8 kB/s eta 0:00:41\n",
      "   -------- ------------------------------- 8.9/41.0 MB 805.9 kB/s eta 0:00:40\n",
      "   -------- ------------------------------- 9.2/41.0 MB 823.1 kB/s eta 0:00:39\n",
      "   --------- ------------------------------ 9.4/41.0 MB 821.3 kB/s eta 0:00:39\n",
      "   --------- ------------------------------ 9.4/41.0 MB 821.3 kB/s eta 0:00:39\n",
      "   --------- ------------------------------ 9.7/41.0 MB 820.6 kB/s eta 0:00:39\n",
      "   --------- ------------------------------ 9.7/41.0 MB 820.6 kB/s eta 0:00:39\n",
      "   --------- ------------------------------ 10.0/41.0 MB 817.9 kB/s eta 0:00:38\n",
      "   --------- ------------------------------ 10.2/41.0 MB 822.6 kB/s eta 0:00:38\n",
      "   ---------- ----------------------------- 10.5/41.0 MB 823.0 kB/s eta 0:00:38\n",
      "   ---------- ----------------------------- 10.7/41.0 MB 830.6 kB/s eta 0:00:37\n",
      "   ---------- ----------------------------- 10.7/41.0 MB 830.6 kB/s eta 0:00:37\n",
      "   ---------- ----------------------------- 11.0/41.0 MB 831.8 kB/s eta 0:00:37\n",
      "   ----------- ---------------------------- 11.3/41.0 MB 836.9 kB/s eta 0:00:36\n",
      "   ----------- ---------------------------- 11.5/41.0 MB 842.8 kB/s eta 0:00:35\n",
      "   ----------- ---------------------------- 11.8/41.0 MB 846.6 kB/s eta 0:00:35\n",
      "   ----------- ---------------------------- 12.1/41.0 MB 853.1 kB/s eta 0:00:34\n",
      "   ------------ --------------------------- 12.3/41.0 MB 855.6 kB/s eta 0:00:34\n",
      "   ------------ --------------------------- 12.3/41.0 MB 855.6 kB/s eta 0:00:34\n",
      "   ------------ --------------------------- 12.6/41.0 MB 858.1 kB/s eta 0:00:34\n",
      "   ------------ --------------------------- 12.8/41.0 MB 862.3 kB/s eta 0:00:33\n",
      "   ------------ --------------------------- 13.1/41.0 MB 869.0 kB/s eta 0:00:33\n",
      "   ------------ --------------------------- 13.1/41.0 MB 869.0 kB/s eta 0:00:33\n",
      "   ------------- -------------------------- 13.4/41.0 MB 861.3 kB/s eta 0:00:33\n",
      "   ------------- -------------------------- 13.6/41.0 MB 859.9 kB/s eta 0:00:32\n",
      "   ------------- -------------------------- 13.9/41.0 MB 863.8 kB/s eta 0:00:32\n",
      "   ------------- -------------------------- 13.9/41.0 MB 863.8 kB/s eta 0:00:32\n",
      "   ------------- -------------------------- 14.2/41.0 MB 865.8 kB/s eta 0:00:31\n",
      "   -------------- ------------------------- 14.4/41.0 MB 871.1 kB/s eta 0:00:31\n",
      "   -------------- ------------------------- 14.9/41.0 MB 881.4 kB/s eta 0:00:30\n",
      "   -------------- ------------------------- 14.9/41.0 MB 881.4 kB/s eta 0:00:30\n",
      "   --------------- ------------------------ 15.5/41.0 MB 892.7 kB/s eta 0:00:29\n",
      "   --------------- ------------------------ 15.7/41.0 MB 901.5 kB/s eta 0:00:28\n",
      "   --------------- ------------------------ 16.0/41.0 MB 905.2 kB/s eta 0:00:28\n",
      "   ---------------- ----------------------- 16.5/41.0 MB 918.1 kB/s eta 0:00:27\n",
      "   ---------------- ----------------------- 16.8/41.0 MB 925.6 kB/s eta 0:00:27\n",
      "   ---------------- ----------------------- 17.0/41.0 MB 930.5 kB/s eta 0:00:26\n",
      "   ---------------- ----------------------- 17.3/41.0 MB 936.1 kB/s eta 0:00:26\n",
      "   ----------------- ---------------------- 17.6/41.0 MB 933.7 kB/s eta 0:00:26\n",
      "   ----------------- ---------------------- 17.8/41.0 MB 939.9 kB/s eta 0:00:25\n",
      "   ----------------- ---------------------- 18.4/41.0 MB 953.6 kB/s eta 0:00:24\n",
      "   ------------------ --------------------- 18.6/41.0 MB 960.3 kB/s eta 0:00:24\n",
      "   ------------------ --------------------- 18.9/41.0 MB 966.9 kB/s eta 0:00:23\n",
      "   ------------------ --------------------- 19.1/41.0 MB 967.9 kB/s eta 0:00:23\n",
      "   ------------------ --------------------- 19.4/41.0 MB 972.0 kB/s eta 0:00:23\n",
      "   ------------------- -------------------- 19.7/41.0 MB 973.7 kB/s eta 0:00:22\n",
      "   ------------------- -------------------- 19.7/41.0 MB 973.7 kB/s eta 0:00:22\n",
      "   ------------------- -------------------- 19.9/41.0 MB 970.2 kB/s eta 0:00:22\n",
      "   ------------------- -------------------- 20.4/41.0 MB 978.0 kB/s eta 0:00:21\n",
      "   -------------------- ------------------- 20.7/41.0 MB 983.2 kB/s eta 0:00:21\n",
      "   -------------------- ------------------- 21.0/41.0 MB 988.4 kB/s eta 0:00:21\n",
      "   -------------------- ------------------- 21.5/41.0 MB 998.5 kB/s eta 0:00:20\n",
      "   -------------------- ------------------- 21.5/41.0 MB 998.5 kB/s eta 0:00:20\n",
      "   --------------------- ------------------ 22.0/41.0 MB 1.0 MB/s eta 0:00:19\n",
      "   --------------------- ------------------ 22.3/41.0 MB 1.0 MB/s eta 0:00:19\n",
      "   ---------------------- ----------------- 22.8/41.0 MB 1.0 MB/s eta 0:00:18\n",
      "   ---------------------- ----------------- 23.1/41.0 MB 1.0 MB/s eta 0:00:18\n",
      "   ---------------------- ----------------- 23.3/41.0 MB 1.0 MB/s eta 0:00:18\n",
      "   ---------------------- ----------------- 23.3/41.0 MB 1.0 MB/s eta 0:00:18\n",
      "   ----------------------- ---------------- 23.6/41.0 MB 1.0 MB/s eta 0:00:18\n",
      "   ----------------------- ---------------- 23.6/41.0 MB 1.0 MB/s eta 0:00:18\n",
      "   ----------------------- ---------------- 23.6/41.0 MB 1.0 MB/s eta 0:00:18\n",
      "   ----------------------- ---------------- 23.6/41.0 MB 1.0 MB/s eta 0:00:18\n",
      "   ----------------------- ---------------- 23.6/41.0 MB 1.0 MB/s eta 0:00:18\n",
      "   ----------------------- ---------------- 23.9/41.0 MB 981.1 kB/s eta 0:00:18\n",
      "   ----------------------- ---------------- 24.1/41.0 MB 986.3 kB/s eta 0:00:18\n",
      "   ----------------------- ---------------- 24.4/41.0 MB 988.2 kB/s eta 0:00:17\n",
      "   ------------------------ --------------- 24.6/41.0 MB 991.9 kB/s eta 0:00:17\n",
      "   ------------------------ --------------- 25.2/41.0 MB 999.3 kB/s eta 0:00:16\n",
      "   ------------------------ --------------- 25.4/41.0 MB 1.0 MB/s eta 0:00:16\n",
      "   ------------------------- -------------- 25.7/41.0 MB 1.0 MB/s eta 0:00:16\n",
      "   ------------------------- -------------- 25.7/41.0 MB 1.0 MB/s eta 0:00:16\n",
      "   ------------------------- -------------- 26.0/41.0 MB 1.0 MB/s eta 0:00:15\n",
      "   ------------------------- -------------- 26.2/41.0 MB 1.0 MB/s eta 0:00:15\n",
      "   ------------------------- -------------- 26.2/41.0 MB 1.0 MB/s eta 0:00:15\n",
      "   ------------------------- -------------- 26.2/41.0 MB 1.0 MB/s eta 0:00:15\n",
      "   ------------------------- -------------- 26.2/41.0 MB 1.0 MB/s eta 0:00:15\n",
      "   ------------------------- -------------- 26.2/41.0 MB 1.0 MB/s eta 0:00:15\n",
      "   ------------------------- -------------- 26.5/41.0 MB 969.8 kB/s eta 0:00:15\n",
      "   -------------------------- ------------- 26.7/41.0 MB 975.0 kB/s eta 0:00:15\n",
      "   -------------------------- ------------- 26.7/41.0 MB 975.0 kB/s eta 0:00:15\n",
      "   -------------------------- ------------- 27.0/41.0 MB 972.3 kB/s eta 0:00:15\n",
      "   -------------------------- ------------- 27.3/41.0 MB 973.0 kB/s eta 0:00:15\n",
      "   -------------------------- ------------- 27.3/41.0 MB 973.0 kB/s eta 0:00:15\n",
      "   -------------------------- ------------- 27.5/41.0 MB 965.6 kB/s eta 0:00:14\n",
      "   -------------------------- ------------- 27.5/41.0 MB 965.6 kB/s eta 0:00:14\n",
      "   --------------------------- ------------ 27.8/41.0 MB 962.7 kB/s eta 0:00:14\n",
      "   --------------------------- ------------ 28.0/41.0 MB 963.4 kB/s eta 0:00:14\n",
      "   --------------------------- ------------ 28.0/41.0 MB 963.4 kB/s eta 0:00:14\n",
      "   --------------------------- ------------ 28.3/41.0 MB 955.4 kB/s eta 0:00:14\n",
      "   --------------------------- ------------ 28.3/41.0 MB 955.4 kB/s eta 0:00:14\n",
      "   --------------------------- ------------ 28.3/41.0 MB 955.4 kB/s eta 0:00:14\n",
      "   --------------------------- ------------ 28.3/41.0 MB 955.4 kB/s eta 0:00:14\n",
      "   --------------------------- ------------ 28.6/41.0 MB 938.9 kB/s eta 0:00:14\n",
      "   --------------------------- ------------ 28.6/41.0 MB 938.9 kB/s eta 0:00:14\n",
      "   --------------------------- ------------ 28.6/41.0 MB 938.9 kB/s eta 0:00:14\n",
      "   ---------------------------- ----------- 28.8/41.0 MB 918.5 kB/s eta 0:00:14\n",
      "   ---------------------------- ----------- 29.1/41.0 MB 902.4 kB/s eta 0:00:14\n",
      "   ---------------------------- ----------- 29.1/41.0 MB 902.4 kB/s eta 0:00:14\n",
      "   ---------------------------- ----------- 29.4/41.0 MB 891.3 kB/s eta 0:00:14\n",
      "   ---------------------------- ----------- 29.4/41.0 MB 891.3 kB/s eta 0:00:14\n",
      "   ---------------------------- ----------- 29.6/41.0 MB 887.6 kB/s eta 0:00:13\n",
      "   ----------------------------- ---------- 29.9/41.0 MB 922.9 kB/s eta 0:00:13\n",
      "   ----------------------------- ---------- 29.9/41.0 MB 922.9 kB/s eta 0:00:13\n",
      "   ----------------------------- ---------- 30.1/41.0 MB 921.0 kB/s eta 0:00:12\n",
      "   ----------------------------- ---------- 30.1/41.0 MB 921.0 kB/s eta 0:00:12\n",
      "   ----------------------------- ---------- 30.4/41.0 MB 916.7 kB/s eta 0:00:12\n",
      "   ----------------------------- ---------- 30.4/41.0 MB 916.7 kB/s eta 0:00:12\n",
      "   ----------------------------- ---------- 30.4/41.0 MB 916.7 kB/s eta 0:00:12\n",
      "   ----------------------------- ---------- 30.7/41.0 MB 900.7 kB/s eta 0:00:12\n",
      "   ----------------------------- ---------- 30.7/41.0 MB 900.7 kB/s eta 0:00:12\n",
      "   ------------------------------ --------- 30.9/41.0 MB 894.1 kB/s eta 0:00:12\n",
      "   ------------------------------ --------- 30.9/41.0 MB 894.1 kB/s eta 0:00:12\n",
      "   ------------------------------ --------- 30.9/41.0 MB 894.1 kB/s eta 0:00:12\n",
      "   ------------------------------ --------- 31.2/41.0 MB 900.5 kB/s eta 0:00:11\n",
      "   ------------------------------ --------- 31.2/41.0 MB 900.5 kB/s eta 0:00:11\n",
      "   ------------------------------ --------- 31.5/41.0 MB 894.2 kB/s eta 0:00:11\n",
      "   ------------------------------ --------- 31.5/41.0 MB 894.2 kB/s eta 0:00:11\n",
      "   ------------------------------ --------- 31.5/41.0 MB 894.2 kB/s eta 0:00:11\n",
      "   ------------------------------ --------- 31.7/41.0 MB 911.0 kB/s eta 0:00:11\n",
      "   ------------------------------ --------- 31.7/41.0 MB 911.0 kB/s eta 0:00:11\n",
      "   ------------------------------ --------- 31.7/41.0 MB 911.0 kB/s eta 0:00:11\n",
      "   ------------------------------- -------- 32.0/41.0 MB 903.0 kB/s eta 0:00:10\n",
      "   ------------------------------- -------- 32.0/41.0 MB 903.0 kB/s eta 0:00:10\n",
      "   ------------------------------- -------- 32.2/41.0 MB 901.9 kB/s eta 0:00:10\n",
      "   ------------------------------- -------- 32.5/41.0 MB 910.5 kB/s eta 0:00:10\n",
      "   ------------------------------- -------- 32.8/41.0 MB 913.5 kB/s eta 0:00:09\n",
      "   -------------------------------- ------- 33.0/41.0 MB 911.6 kB/s eta 0:00:09\n",
      "   -------------------------------- ------- 33.3/41.0 MB 915.4 kB/s eta 0:00:09\n",
      "   -------------------------------- ------- 33.6/41.0 MB 914.5 kB/s eta 0:00:09\n",
      "   -------------------------------- ------- 33.6/41.0 MB 914.5 kB/s eta 0:00:09\n",
      "   --------------------------------- ------ 33.8/41.0 MB 916.9 kB/s eta 0:00:08\n",
      "   --------------------------------- ------ 34.1/41.0 MB 915.0 kB/s eta 0:00:08\n",
      "   --------------------------------- ------ 34.3/41.0 MB 911.6 kB/s eta 0:00:08\n",
      "   --------------------------------- ------ 34.3/41.0 MB 911.6 kB/s eta 0:00:08\n",
      "   --------------------------------- ------ 34.6/41.0 MB 912.6 kB/s eta 0:00:07\n",
      "   ---------------------------------- ----- 34.9/41.0 MB 915.9 kB/s eta 0:00:07\n",
      "   ---------------------------------- ----- 35.1/41.0 MB 915.4 kB/s eta 0:00:07\n",
      "   ---------------------------------- ----- 35.4/41.0 MB 912.6 kB/s eta 0:00:07\n",
      "   ---------------------------------- ----- 35.4/41.0 MB 912.6 kB/s eta 0:00:07\n",
      "   ---------------------------------- ----- 35.4/41.0 MB 912.6 kB/s eta 0:00:07\n",
      "   ---------------------------------- ----- 35.7/41.0 MB 905.2 kB/s eta 0:00:06\n",
      "   ----------------------------------- ---- 35.9/41.0 MB 902.4 kB/s eta 0:00:06\n",
      "   ----------------------------------- ---- 35.9/41.0 MB 902.4 kB/s eta 0:00:06\n",
      "   ----------------------------------- ---- 36.2/41.0 MB 896.9 kB/s eta 0:00:06\n",
      "   ----------------------------------- ---- 36.4/41.0 MB 896.4 kB/s eta 0:00:06\n",
      "   ----------------------------------- ---- 36.4/41.0 MB 896.4 kB/s eta 0:00:06\n",
      "   ----------------------------------- ---- 36.4/41.0 MB 896.4 kB/s eta 0:00:06\n",
      "   ----------------------------------- ---- 36.7/41.0 MB 892.7 kB/s eta 0:00:05\n",
      "   ----------------------------------- ---- 36.7/41.0 MB 892.7 kB/s eta 0:00:05\n",
      "   ----------------------------------- ---- 36.7/41.0 MB 892.7 kB/s eta 0:00:05\n",
      "   ------------------------------------ --- 37.0/41.0 MB 882.6 kB/s eta 0:00:05\n",
      "   ------------------------------------ --- 37.0/41.0 MB 882.6 kB/s eta 0:00:05\n",
      "   ------------------------------------ --- 37.2/41.0 MB 869.2 kB/s eta 0:00:05\n",
      "   ------------------------------------ --- 37.2/41.0 MB 869.2 kB/s eta 0:00:05\n",
      "   ------------------------------------ --- 37.5/41.0 MB 865.1 kB/s eta 0:00:05\n",
      "   ------------------------------------ --- 37.5/41.0 MB 865.1 kB/s eta 0:00:05\n",
      "   ------------------------------------ --- 37.7/41.0 MB 857.2 kB/s eta 0:00:04\n",
      "   ------------------------------------ --- 37.7/41.0 MB 857.2 kB/s eta 0:00:04\n",
      "   ------------------------------------- -- 38.0/41.0 MB 849.4 kB/s eta 0:00:04\n",
      "   ------------------------------------- -- 38.0/41.0 MB 849.4 kB/s eta 0:00:04\n",
      "   ------------------------------------- -- 38.3/41.0 MB 840.6 kB/s eta 0:00:04\n",
      "   ------------------------------------- -- 38.3/41.0 MB 840.6 kB/s eta 0:00:04\n",
      "   ------------------------------------- -- 38.5/41.0 MB 841.0 kB/s eta 0:00:03\n",
      "   ------------------------------------- -- 38.5/41.0 MB 841.0 kB/s eta 0:00:03\n",
      "   ------------------------------------- -- 38.8/41.0 MB 840.2 kB/s eta 0:00:03\n",
      "   ------------------------------------- -- 38.8/41.0 MB 840.2 kB/s eta 0:00:03\n",
      "   -------------------------------------- - 39.1/41.0 MB 836.2 kB/s eta 0:00:03\n",
      "   -------------------------------------- - 39.3/41.0 MB 832.3 kB/s eta 0:00:02\n",
      "   -------------------------------------- - 39.3/41.0 MB 832.3 kB/s eta 0:00:02\n",
      "   -------------------------------------- - 39.6/41.0 MB 824.4 kB/s eta 0:00:02\n",
      "   -------------------------------------- - 39.6/41.0 MB 824.4 kB/s eta 0:00:02\n",
      "   -------------------------------------- - 39.8/41.0 MB 815.2 kB/s eta 0:00:02\n",
      "   -------------------------------------- - 39.8/41.0 MB 815.2 kB/s eta 0:00:02\n",
      "   ---------------------------------------  40.1/41.0 MB 806.0 kB/s eta 0:00:02\n",
      "   ---------------------------------------  40.1/41.0 MB 806.0 kB/s eta 0:00:02\n",
      "   ---------------------------------------  40.4/41.0 MB 786.4 kB/s eta 0:00:01\n",
      "   ---------------------------------------  40.4/41.0 MB 786.4 kB/s eta 0:00:01\n",
      "   ---------------------------------------  40.6/41.0 MB 778.5 kB/s eta 0:00:01\n",
      "   ---------------------------------------  40.9/41.0 MB 778.5 kB/s eta 0:00:01\n",
      "   ---------------------------------------  40.9/41.0 MB 778.5 kB/s eta 0:00:01\n",
      "   ---------------------------------------- 41.0/41.0 MB 764.2 kB/s eta 0:00:00\n",
      "Downloading threadpoolctl-3.6.0-py3-none-any.whl (18 kB)\n",
      "Installing collected packages: threadpoolctl, scipy, joblib, scikit-learn\n",
      "Successfully installed joblib-1.5.1 scikit-learn-1.7.0 scipy-1.15.3 threadpoolctl-3.6.0\n"
     ]
    }
   ],
   "source": [
    "!pip install scikit-learn\n"
   ]
  },
  {
   "cell_type": "code",
   "execution_count": 193,
   "id": "526ae248-b676-4309-a8f9-9e3deb167fda",
   "metadata": {},
   "outputs": [],
   "source": [
    "from sklearn.linear_model import LogisticRegression\n"
   ]
  },
  {
   "cell_type": "code",
   "execution_count": 202,
   "id": "8146aad9-21ab-4e2f-9202-c0f6e30880b0",
   "metadata": {},
   "outputs": [],
   "source": [
    "features = ['City', 'State', 'order_id', 'Status']\n"
   ]
  },
  {
   "cell_type": "code",
   "execution_count": 204,
   "id": "90821cfb-74d2-4be9-b503-0337e4960972",
   "metadata": {},
   "outputs": [],
   "source": [
    "X = data[features]\n",
    "y = data['returned']\n"
   ]
  },
  {
   "cell_type": "code",
   "execution_count": 206,
   "id": "4f34eac1-e9b9-4784-adaf-e32537996dbe",
   "metadata": {},
   "outputs": [],
   "source": [
    "X_encoded = pd.get_dummies(X, drop_first=True)\n"
   ]
  },
  {
   "cell_type": "code",
   "execution_count": 208,
   "id": "d36d38cd-8ca7-45b9-8509-467b40e3344e",
   "metadata": {},
   "outputs": [],
   "source": [
    "from sklearn.model_selection import train_test_split\n",
    "\n",
    "X_train, X_test, y_train, y_test = train_test_split(X_encoded, y, test_size=0.2, random_state=42)\n"
   ]
  },
  {
   "cell_type": "code",
   "execution_count": 212,
   "id": "9538c495-e103-4dea-98c0-0ef67a635dc8",
   "metadata": {},
   "outputs": [
    {
     "name": "stdout",
     "output_type": "stream",
     "text": [
      "returned\n",
      "0    193\n",
      "Name: count, dtype: int64\n"
     ]
    }
   ],
   "source": [
    "print(data['returned'].value_counts())\n"
   ]
  },
  {
   "cell_type": "code",
   "execution_count": 214,
   "id": "c96d33b2-fdcb-46af-9e25-61afc6904973",
   "metadata": {},
   "outputs": [
    {
     "name": "stdout",
     "output_type": "stream",
     "text": [
      "[nan]\n"
     ]
    }
   ],
   "source": [
    "print(data['Status'].unique())\n"
   ]
  },
  {
   "cell_type": "code",
   "execution_count": 216,
   "id": "1d1b0942-b128-4a81-a526-669d7f5d5361",
   "metadata": {},
   "outputs": [],
   "source": [
    "data['returned'] = (data['Status'] == 'Returned').astype(int)\n"
   ]
  },
  {
   "cell_type": "code",
   "execution_count": 218,
   "id": "c3f4ddb0-7738-4007-b4e8-0cc7df439695",
   "metadata": {},
   "outputs": [
    {
     "name": "stdout",
     "output_type": "stream",
     "text": [
      "returned\n",
      "0    193\n",
      "Name: count, dtype: int64\n"
     ]
    }
   ],
   "source": [
    "print(data['returned'].value_counts())\n"
   ]
  },
  {
   "cell_type": "code",
   "execution_count": 220,
   "id": "48dcd0e0-f336-404e-b4fc-2f03ec7aef09",
   "metadata": {},
   "outputs": [
    {
     "name": "stdout",
     "output_type": "stream",
     "text": [
      "[nan]\n"
     ]
    }
   ],
   "source": [
    "print(data['Status'].unique())\n"
   ]
  },
  {
   "cell_type": "code",
   "execution_count": 222,
   "id": "b257e09d-b971-43dd-8fd2-e4965435dd84",
   "metadata": {},
   "outputs": [
    {
     "data": {
      "text/plain": [
       "['Delivered', 'Returned', 'Cancelled', 'Shipped']"
      ]
     },
     "execution_count": 222,
     "metadata": {},
     "output_type": "execute_result"
    }
   ],
   "source": [
    "['Delivered', 'Returned', 'Cancelled', 'Shipped']\n"
   ]
  },
  {
   "cell_type": "code",
   "execution_count": 224,
   "id": "037502ef-71ba-42ac-af01-ce1e2d6eff30",
   "metadata": {},
   "outputs": [],
   "source": [
    "data['returned'] = (data['Status'] == 'Returned').astype(int)\n"
   ]
  },
  {
   "cell_type": "code",
   "execution_count": 226,
   "id": "b5bff07f-0e2b-484f-9325-5fff0a862e9b",
   "metadata": {},
   "outputs": [
    {
     "name": "stdout",
     "output_type": "stream",
     "text": [
      "returned\n",
      "0    193\n",
      "Name: count, dtype: int64\n"
     ]
    }
   ],
   "source": [
    "print(data['returned'].value_counts())\n"
   ]
  },
  {
   "cell_type": "code",
   "execution_count": 228,
   "id": "0dd1dd44-dc51-4316-a846-d741c1e80066",
   "metadata": {},
   "outputs": [
    {
     "name": "stdout",
     "output_type": "stream",
     "text": [
      "[nan]\n"
     ]
    }
   ],
   "source": [
    "print(data['Status'].unique())\n"
   ]
  },
  {
   "cell_type": "code",
   "execution_count": 230,
   "id": "ed03bb2c-7ddc-42e3-91d2-d0b4be7d5b96",
   "metadata": {},
   "outputs": [],
   "source": [
    "data['Status'] = data['Status'].str.strip()\n",
    "data['returned'] = (data['Status'] == 'Returned').astype(int)\n"
   ]
  },
  {
   "cell_type": "code",
   "execution_count": 244,
   "id": "09b80784-24c5-42ab-b934-9d66302f0038",
   "metadata": {},
   "outputs": [],
   "source": [
    "data.rename(columns={'Return Probability': 'return_probability'}, inplace=True)\n"
   ]
  },
  {
   "cell_type": "code",
   "execution_count": 248,
   "id": "c4a0b466-f1b7-4ecf-a577-331e36c76bc7",
   "metadata": {},
   "outputs": [],
   "source": [
    "# Mark first 50 rows as \"Returned\"\n",
    "data.loc[:49, 'Status'] = 'Returned'\n",
    "data['returned'] = (data['Status'] == 'Returned').astype(int)\n"
   ]
  },
  {
   "cell_type": "code",
   "execution_count": 250,
   "id": "82794f6e-2007-40e6-9a71-3867139cac3e",
   "metadata": {},
   "outputs": [
    {
     "name": "stdout",
     "output_type": "stream",
     "text": [
      "returned\n",
      "0    172\n",
      "1     21\n",
      "Name: count, dtype: int64\n"
     ]
    }
   ],
   "source": [
    "print(data['returned'].value_counts())\n"
   ]
  },
  {
   "cell_type": "code",
   "execution_count": 256,
   "id": "ac849190-df8b-4155-b47f-a744b6ce0802",
   "metadata": {},
   "outputs": [
    {
     "name": "stdout",
     "output_type": "stream",
     "text": [
      "Index(['order_id', 'Order Date', 'CustomerName', 'State', 'City', 'Unnamed: 0',\n",
      "       'Status', 'returned'],\n",
      "      dtype='object')\n"
     ]
    }
   ],
   "source": [
    "print(data.columns)\n"
   ]
  },
  {
   "cell_type": "code",
   "execution_count": 258,
   "id": "5e9e30ea-1a95-44c3-9e60-888368b1f3c6",
   "metadata": {},
   "outputs": [],
   "source": [
    "data.rename(columns={'Customer Name': 'CustomerName'}, inplace=True)\n"
   ]
  },
  {
   "cell_type": "code",
   "execution_count": 264,
   "id": "6a9daf9e-282a-4f03-ac06-d9affa6756af",
   "metadata": {},
   "outputs": [],
   "source": [
    "X = pd.get_dummies(data[['Status', 'City', 'CustomerName']], drop_first=True)\n"
   ]
  },
  {
   "cell_type": "code",
   "execution_count": 266,
   "id": "8cde055e-92eb-4bb9-aef9-246748e02ada",
   "metadata": {},
   "outputs": [
    {
     "name": "stdout",
     "output_type": "stream",
     "text": [
      "Requirement already satisfied: scikit-learn in c:\\users\\sampriti ghosh\\anaconda3\\envs\\sampriti\\lib\\site-packages (1.7.0)\n",
      "Requirement already satisfied: numpy>=1.22.0 in c:\\users\\sampriti ghosh\\anaconda3\\envs\\sampriti\\lib\\site-packages (from scikit-learn) (2.3.0)\n",
      "Requirement already satisfied: scipy>=1.8.0 in c:\\users\\sampriti ghosh\\anaconda3\\envs\\sampriti\\lib\\site-packages (from scikit-learn) (1.15.3)\n",
      "Requirement already satisfied: joblib>=1.2.0 in c:\\users\\sampriti ghosh\\anaconda3\\envs\\sampriti\\lib\\site-packages (from scikit-learn) (1.5.1)\n",
      "Requirement already satisfied: threadpoolctl>=3.1.0 in c:\\users\\sampriti ghosh\\anaconda3\\envs\\sampriti\\lib\\site-packages (from scikit-learn) (3.6.0)\n"
     ]
    }
   ],
   "source": [
    "!pip install scikit-learn\n"
   ]
  },
  {
   "cell_type": "code",
   "execution_count": 268,
   "id": "63aff4ec-6501-4b73-bd0b-35ffd5162528",
   "metadata": {},
   "outputs": [
    {
     "name": "stdout",
     "output_type": "stream",
     "text": [
      "returned\n",
      "0    172\n",
      "1     21\n",
      "Name: count, dtype: int64\n"
     ]
    }
   ],
   "source": [
    "print(data['returned'].value_counts())\n"
   ]
  },
  {
   "cell_type": "code",
   "execution_count": 270,
   "id": "a05ced5e-7672-4d11-949e-e9db3f30f448",
   "metadata": {},
   "outputs": [],
   "source": [
    "data['returned'] = (data['Status'].str.strip().str.title() == 'Returned').astype(int)\n"
   ]
  },
  {
   "cell_type": "code",
   "execution_count": 272,
   "id": "2bce85c2-517d-4871-9c97-bc082bacf373",
   "metadata": {},
   "outputs": [],
   "source": [
    "return_by_month.index = return_by_month.index.astype(str)\n"
   ]
  },
  {
   "cell_type": "code",
   "execution_count": 274,
   "id": "b44d482b-5695-4684-b3a9-fe17518e4191",
   "metadata": {},
   "outputs": [
    {
     "name": "stdout",
     "output_type": "stream",
     "text": [
      "   order_id Order Date CustomerName           State       City  Unnamed: 0  \\\n",
      "0   B-26055 2018-10-03        Alice   Uttar Pradesh    Mathura         NaN   \n",
      "1   B-25993 2018-03-02          Bob           Delhi      Delhi         NaN   \n",
      "8   B-25798 2018-01-10        David  Andhra Pradesh  Hyderabad         NaN   \n",
      "9   B-25602 2018-01-04          Eva     Maharashtra       Pune         NaN   \n",
      "13  B-25997 2018-04-02        David     Maharashtra       Pune         NaN   \n",
      "\n",
      "      Status  returned  \n",
      "0   Returned         1  \n",
      "1   Returned         1  \n",
      "8   Returned         1  \n",
      "9   Returned         1  \n",
      "13  Returned         1  \n"
     ]
    }
   ],
   "source": [
    "print(data.head())"
   ]
  },
  {
   "cell_type": "code",
   "execution_count": null,
   "id": "f98eaf34-40a9-445a-8edb-aabfdf92733c",
   "metadata": {},
   "outputs": [],
   "source": [
    "features = ['Status', 'State', 'City', 'order_id']\n",
    "X = data[features]\n",
    "y = data['returned']\n"
   ]
  }
 ],
 "metadata": {
  "kernelspec": {
   "display_name": "Python [conda env:SAMPRITI]",
   "language": "python",
   "name": "conda-env-SAMPRITI-py"
  },
  "language_info": {
   "codemirror_mode": {
    "name": "ipython",
    "version": 3
   },
   "file_extension": ".py",
   "mimetype": "text/x-python",
   "name": "python",
   "nbconvert_exporter": "python",
   "pygments_lexer": "ipython3",
   "version": "3.12.8"
  }
 },
 "nbformat": 4,
 "nbformat_minor": 5
}
